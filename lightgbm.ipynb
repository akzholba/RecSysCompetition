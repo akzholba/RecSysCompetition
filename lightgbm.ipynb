{
 "cells": [
  {
   "cell_type": "code",
   "execution_count": 5,
   "metadata": {},
   "outputs": [],
   "source": [
    "\n",
    "import os\n",
    "from utils.data_split import *\n",
    "from utils.feature_additions import *\n",
    "\n",
    "path_to_data = 'data'\n",
    "path_to_submissions = 'submissions'\n",
    "\n",
    "data_path = 'data'\n",
    "events_df = pd.read_csv('data/events.csv')  # [user_id, item_id, rating, timestamp]\n",
    "\n",
    "user_features_df = pd.read_csv(os.path.join(data_path,'user_features.csv')) # [user_id, gender, age]\n",
    "item_features_df = pd.read_csv('./data/item_features.csv')\n",
    "\n",
    "train_df, test_df = split_data_by_user(events_df, test_size=10)\n",
    "\n",
    "train_df = train_df.drop(['timestamp'], axis = 1)\n",
    "test_df = test_df.drop(['timestamp'], axis = 1)\n",
    "\n",
    "user_features_from_train = get_user_features_from_train(train_df, item_features_df)\n",
    "item_features_from_train = get_item_features_from_train(train_df, item_features_df)\n",
    "\n",
    "# Присоединение признаков к тестовому набору данных\n",
    "train_df_with_features = join_features(train_df, user_features_from_train, item_features_from_train)\n",
    "test_df_with_features = join_features(test_df, user_features_from_train, item_features_from_train)\n",
    "\n",
    "\n",
    "\n",
    "target_col = ['rating']\n",
    "X_train, y_train = train_df_with_features.drop(target_col, axis = 1), train_df_with_features[target_col]\n",
    "X_test, y_test = test_df_with_features.drop(target_col, axis = 1), test_df_with_features[target_col]\n"
   ]
  },
  {
   "cell_type": "markdown",
   "metadata": {},
   "source": [
    "# Light GBM"
   ]
  },
  {
   "cell_type": "code",
   "execution_count": 6,
   "metadata": {},
   "outputs": [
    {
     "name": "stdout",
     "output_type": "stream",
     "text": [
      "[LightGBM] [Info] Auto-choosing row-wise multi-threading, the overhead of testing was 0.016378 seconds.\n",
      "You can set `force_row_wise=true` to remove the overhead.\n",
      "And if memory is not enough, you can set `force_col_wise=true`.\n",
      "[LightGBM] [Info] Total Bins 6119\n",
      "[LightGBM] [Info] Number of data points in the train set: 833749, number of used features: 25\n",
      "[LightGBM] [Info] Start training from score 3.579519\n",
      "RMSE на валидационных данных: 0.9459961927251281\n"
     ]
    },
    {
     "name": "stderr",
     "output_type": "stream",
     "text": [
      "/Users/akzholba/Documents/RecSys/RecSysCompetition/.venv/lib/python3.10/site-packages/sklearn/metrics/_regression.py:492: FutureWarning: 'squared' is deprecated in version 1.4 and will be removed in 1.6. To calculate the root mean squared error, use the function'root_mean_squared_error'.\n",
      "  warnings.warn(\n"
     ]
    }
   ],
   "source": [
    "import lightgbm as lgb\n",
    "\n",
    "lgb_train = lgb.Dataset(X_train, y_train)\n",
    "lgb_test = lgb.Dataset(X_test, y_test, reference=lgb_train)\n",
    "\n",
    "# Параметры модели\n",
    "params = {\n",
    "    'objective': 'regression',      # Можно использовать 'lambdarank' для ранжирования\n",
    "    'metric': 'rmse',               # Метрика регрессии, для ранжирования можно использовать NDCG\n",
    "    'boosting_type': 'gbdt',\n",
    "    'learning_rate': 0.05,\n",
    "    'num_leaves': 31,\n",
    "    'feature_fraction': 0.9,\n",
    "    'bagging_fraction': 0.8,\n",
    "    'bagging_freq': 5,\n",
    "}\n",
    "\n",
    "# Обучение модели\n",
    "model = lgb.train(params, lgb_train, valid_sets=[lgb_train, lgb_test], num_boost_round=1000)\n",
    "\n",
    "# Предсказание на валидации для оценки\n",
    "y_pred_val = model.predict(X_test, num_iteration=model.best_iteration)\n",
    "\n",
    "from sklearn.metrics import mean_squared_error\n",
    "rmse_val = mean_squared_error(y_test, y_pred_val, squared=False)\n",
    "print(f\"RMSE на валидационных данных: {rmse_val}\")"
   ]
  },
  {
   "cell_type": "code",
   "execution_count": 7,
   "metadata": {},
   "outputs": [],
   "source": [
    "import itertools\n",
    "\n",
    "top_k = 10\n",
    "\n",
    "def get_top_k_recommendations(user_id, k=top_k, df=test_df):\n",
    "    user_predictions = df[df['user_id'] == user_id]\n",
    "    top_k_items = user_predictions.nlargest(k, 'predicted_rating')['item_id'].values\n",
    "    return list(top_k_items)\n",
    "\n",
    "def make_candidates_generations(data: pd.DataFrame,model = model,  model_name : str = 'LightGBM', k = 10):\n",
    "    users = data['user_id'].unique()\n",
    "    items = data['item_id'].unique()\n",
    "    all_combinations = pd.DataFrame(list(itertools.product(users, items)), columns=['user_id', 'item_id'])\n",
    "    all_combinations_featured = join_features(all_combinations, user_features_from_train, item_features_from_train)\n",
    "    if model_name == 'LightGBM':\n",
    "        all_combinations_featured['predicted_rating'] = model.predict(all_combinations_featured, num_iteration=model.best_iteration)\n",
    "    user_top_k_recommendations = {user_id: get_top_k_recommendations(user_id, df=all_combinations_featured) for user_id in users}\n",
    "\n",
    "    recommendations = pd.DataFrame({\n",
    "    'user_id': user_top_k_recommendations.keys(),\n",
    "    'recommended_items': user_top_k_recommendations.values()\n",
    "    })\n",
    "\n",
    "    return recommendations\n",
    "\n"
   ]
  },
  {
   "cell_type": "code",
   "execution_count": 8,
   "metadata": {},
   "outputs": [
    {
     "data": {
      "text/html": [
       "<div>\n",
       "<style scoped>\n",
       "    .dataframe tbody tr th:only-of-type {\n",
       "        vertical-align: middle;\n",
       "    }\n",
       "\n",
       "    .dataframe tbody tr th {\n",
       "        vertical-align: top;\n",
       "    }\n",
       "\n",
       "    .dataframe thead th {\n",
       "        text-align: right;\n",
       "    }\n",
       "</style>\n",
       "<table border=\"1\" class=\"dataframe\">\n",
       "  <thead>\n",
       "    <tr style=\"text-align: right;\">\n",
       "      <th></th>\n",
       "      <th>user_id</th>\n",
       "      <th>recommended_items</th>\n",
       "    </tr>\n",
       "  </thead>\n",
       "  <tbody>\n",
       "    <tr>\n",
       "      <th>0</th>\n",
       "      <td>0</td>\n",
       "      <td>2649 2627 2243 1575 2111 3387 896 900 3136 1455</td>\n",
       "    </tr>\n",
       "    <tr>\n",
       "      <th>1</th>\n",
       "      <td>1</td>\n",
       "      <td>3022 1543 2649 2627 2243 1575 3136 2111 896 900</td>\n",
       "    </tr>\n",
       "    <tr>\n",
       "      <th>2</th>\n",
       "      <td>2</td>\n",
       "      <td>3022 1039 1543 1583 2564 2862 1831 472 1223 1560</td>\n",
       "    </tr>\n",
       "    <tr>\n",
       "      <th>3</th>\n",
       "      <td>3</td>\n",
       "      <td>3022 1543 1583 1039 2789 2649 2627 2243 3529 1575</td>\n",
       "    </tr>\n",
       "    <tr>\n",
       "      <th>4</th>\n",
       "      <td>4</td>\n",
       "      <td>1575 2649 2627 2243 2111 1543 896 900 1455 3136</td>\n",
       "    </tr>\n",
       "    <tr>\n",
       "      <th>...</th>\n",
       "      <td>...</td>\n",
       "      <td>...</td>\n",
       "    </tr>\n",
       "    <tr>\n",
       "      <th>6035</th>\n",
       "      <td>6035</td>\n",
       "      <td>896 900 1575 2243 2111 2649 2627 1455 3541 3563</td>\n",
       "    </tr>\n",
       "    <tr>\n",
       "      <th>6036</th>\n",
       "      <td>6036</td>\n",
       "      <td>1455 1575 2111 896 900 2649 2627 2243 3541 3563</td>\n",
       "    </tr>\n",
       "    <tr>\n",
       "      <th>6037</th>\n",
       "      <td>6037</td>\n",
       "      <td>3541 3563 3387 3136 2649 2627 2243 2111 1455 1575</td>\n",
       "    </tr>\n",
       "    <tr>\n",
       "      <th>6038</th>\n",
       "      <td>6038</td>\n",
       "      <td>2243 3541 3563 896 900 1575 2111 1455 2649 2627</td>\n",
       "    </tr>\n",
       "    <tr>\n",
       "      <th>6039</th>\n",
       "      <td>6039</td>\n",
       "      <td>896 900 2243 1455 1575 2111 3387 3136 2649 2627</td>\n",
       "    </tr>\n",
       "  </tbody>\n",
       "</table>\n",
       "<p>6040 rows × 2 columns</p>\n",
       "</div>"
      ],
      "text/plain": [
       "      user_id                                  recommended_items\n",
       "0           0    2649 2627 2243 1575 2111 3387 896 900 3136 1455\n",
       "1           1    3022 1543 2649 2627 2243 1575 3136 2111 896 900\n",
       "2           2   3022 1039 1543 1583 2564 2862 1831 472 1223 1560\n",
       "3           3  3022 1543 1583 1039 2789 2649 2627 2243 3529 1575\n",
       "4           4    1575 2649 2627 2243 2111 1543 896 900 1455 3136\n",
       "...       ...                                                ...\n",
       "6035     6035    896 900 1575 2243 2111 2649 2627 1455 3541 3563\n",
       "6036     6036    1455 1575 2111 896 900 2649 2627 2243 3541 3563\n",
       "6037     6037  3541 3563 3387 3136 2649 2627 2243 2111 1455 1575\n",
       "6038     6038    2243 3541 3563 896 900 1575 2111 1455 2649 2627\n",
       "6039     6039    896 900 2243 1455 1575 2111 3387 3136 2649 2627\n",
       "\n",
       "[6040 rows x 2 columns]"
      ]
     },
     "execution_count": 8,
     "metadata": {},
     "output_type": "execute_result"
    }
   ],
   "source": [
    "model.save_model('LightGBM.txt')\n",
    "recommendations_LGBM = make_candidates_generations(train_df, model = model, model_name='LightGBM', k = 10)\n",
    "recommendations_LGBM['recommended_items'] = recommendations_LGBM['recommended_items'].apply(lambda x: [str(a) for a in x]).apply(lambda x: ' '.join(x))\n",
    "recommendations_LGBM"
   ]
  },
  {
   "cell_type": "markdown",
   "metadata": {},
   "source": [
    "# Метрика"
   ]
  },
  {
   "cell_type": "markdown",
   "metadata": {},
   "source": [
    "## Собираем датасет эталон"
   ]
  },
  {
   "cell_type": "code",
   "execution_count": 10,
   "metadata": {},
   "outputs": [],
   "source": [
    "import os\n",
    "from utils.data_split import *\n",
    "from utils.feature_additions import *\n",
    "\n",
    "data_path = 'data'\n",
    "events_df = pd.read_csv('data/events.csv')  # [user_id, item_id, rating, timestamp]\n",
    "\n",
    "user_features_df = pd.read_csv(os.path.join(data_path,'user_features.csv')) # [user_id, gender, age]\n",
    "item_features_df = pd.read_csv('./data/item_features.csv')\n",
    "\n",
    "train_df, test_df = split_data_by_user(events_df, test_size=10)"
   ]
  },
  {
   "cell_type": "code",
   "execution_count": 11,
   "metadata": {},
   "outputs": [],
   "source": [
    "dataset_fo_recall = test_df.groupby(['user_id'])['item_id'].apply(list).reset_index(name='last_10_interactions')\n",
    "dataset_fo_recall['last_10_interactions'] = dataset_fo_recall['last_10_interactions'].apply(lambda x: [str(a) for a in x]).apply(lambda x: ' '.join(x))\n",
    "dataset_fo_recall.to_csv('dataset_to_recall.csv', index = False)\n"
   ]
  },
  {
   "cell_type": "code",
   "execution_count": 12,
   "metadata": {},
   "outputs": [
    {
     "name": "stdout",
     "output_type": "stream",
     "text": [
      "Recall@10 = 0.0138\n"
     ]
    }
   ],
   "source": [
    "from utils.recall_at_k import *\n",
    "submission_file_path = 'submissions/recommendations_lightGBM.csv'\n",
    "real_interactions_file_path = 'data/dataset_to_recall.csv'\n",
    "\n",
    "dataset_for_recall = pd.read_csv(real_interactions_file_path)\n",
    "submission_df = pd.read_csv(submission_file_path)\n",
    "\n",
    "submission_df['item_id'] = submission_df['item_id'].apply(lambda x: x.split())\n",
    "dataset_for_recall['last_10_interactions'] = dataset_for_recall['last_10_interactions'].apply(lambda x: x.split())\n",
    "\n",
    "submission_df['y_real']  = dataset_for_recall['last_10_interactions']\n",
    "\n",
    "result = recall_at_k_overall(submission_df, actual_col='y_real', predicted_col='item_id')\n",
    "print(f\"Recall@10 = {result:.4f}\")"
   ]
  }
 ],
 "metadata": {
  "kernelspec": {
   "display_name": ".venv",
   "language": "python",
   "name": "python3"
  },
  "language_info": {
   "codemirror_mode": {
    "name": "ipython",
    "version": 3
   },
   "file_extension": ".py",
   "mimetype": "text/x-python",
   "name": "python",
   "nbconvert_exporter": "python",
   "pygments_lexer": "ipython3",
   "version": "3.10.11"
  }
 },
 "nbformat": 4,
 "nbformat_minor": 2
}
