{
 "cells": [
  {
   "cell_type": "code",
   "execution_count": 1,
   "metadata": {},
   "outputs": [
    {
     "name": "stdout",
     "output_type": "stream",
     "text": [
      "Requirement already satisfied: lightgbm in ./.venv/lib/python3.10/site-packages (4.5.0)\n",
      "Requirement already satisfied: numpy>=1.17.0 in ./.venv/lib/python3.10/site-packages (from lightgbm) (2.1.2)\n",
      "Requirement already satisfied: scipy in ./.venv/lib/python3.10/site-packages (from lightgbm) (1.14.1)\n"
     ]
    }
   ],
   "source": [
    "!pip install lightgbm"
   ]
  },
  {
   "cell_type": "code",
   "execution_count": 2,
   "metadata": {},
   "outputs": [],
   "source": [
    "import os\n",
    "from data_split import *\n",
    "from feature_additions import *\n",
    "\n",
    "data_path = 'data'\n",
    "events_df = pd.read_csv('data/events.csv')  # [user_id, item_id, rating, timestamp]\n",
    "\n",
    "user_features_df = pd.read_csv(os.path.join(data_path,'user_features.csv')) # [user_id, gender, age]\n",
    "item_features_df = pd.read_csv('./data/item_features.csv')\n",
    "\n",
    "train_df, val_df, test_df = split_data_by_user(events_df)\n",
    "\n",
    "user_features_from_train = get_user_features_from_train(train_df, item_features_df)\n",
    "item_features_from_train = get_item_features_from_train(train_df, item_features_df)\n",
    "\n",
    "# Присоединение признаков к тестовому набору данных\n",
    "train_df_with_features = join_features(train_df, user_features_from_train, item_features_from_train)\n",
    "test_df_with_features = join_features(test_df, user_features_from_train, item_features_from_train)\n",
    "val_df_with_features = join_features(val_df, user_features_from_train, item_features_from_train)\n",
    "\n",
    "\n",
    "target_col = ['rating']\n",
    "X_train, y_train = train_df_with_features.drop(target_col, axis = 1), train_df_with_features[target_col]\n",
    "X_test, y_test = test_df_with_features.drop(target_col, axis = 1), test_df_with_features[target_col]\n",
    "X_val, y_val = val_df_with_features.drop(target_col, axis = 1), val_df_with_features[target_col]"
   ]
  },
  {
   "cell_type": "code",
   "execution_count": 3,
   "metadata": {},
   "outputs": [
    {
     "name": "stdout",
     "output_type": "stream",
     "text": [
      "[LightGBM] [Info] Auto-choosing row-wise multi-threading, the overhead of testing was 0.025449 seconds.\n",
      "You can set `force_row_wise=true` to remove the overhead.\n",
      "And if memory is not enough, you can set `force_col_wise=true`.\n",
      "[LightGBM] [Info] Total Bins 6120\n",
      "[LightGBM] [Info] Number of data points in the train set: 882069, number of used features: 25\n",
      "[LightGBM] [Info] Start training from score 3.580824\n",
      "RMSE на валидационных данных: 0.9402131023666197\n"
     ]
    },
    {
     "name": "stderr",
     "output_type": "stream",
     "text": [
      "/Users/akzholba/Documents/RecSys/RecSysCompetition/.venv/lib/python3.10/site-packages/sklearn/metrics/_regression.py:492: FutureWarning: 'squared' is deprecated in version 1.4 and will be removed in 1.6. To calculate the root mean squared error, use the function'root_mean_squared_error'.\n",
      "  warnings.warn(\n"
     ]
    }
   ],
   "source": [
    "import lightgbm as lgb\n",
    "\n",
    "lgb_train = lgb.Dataset(X_train, y_train)\n",
    "lgb_val = lgb.Dataset(X_val, y_val, reference=lgb_train)\n",
    "\n",
    "# Параметры модели\n",
    "params = {\n",
    "    'objective': 'regression',      # Можно использовать 'lambdarank' для ранжирования\n",
    "    'metric': 'rmse',               # Метрика регрессии, для ранжирования можно использовать NDCG\n",
    "    'boosting_type': 'gbdt',\n",
    "    'learning_rate': 0.05,\n",
    "    'num_leaves': 31,\n",
    "    'feature_fraction': 0.9,\n",
    "    'bagging_fraction': 0.8,\n",
    "    'bagging_freq': 5,\n",
    "}\n",
    "\n",
    "# Обучение модели\n",
    "model = lgb.train(params, lgb_train, valid_sets=[lgb_train, lgb_val], num_boost_round=1000)\n",
    "\n",
    "# Предсказание на валидации для оценки\n",
    "y_pred_val = model.predict(X_val, num_iteration=model.best_iteration)\n",
    "\n",
    "from sklearn.metrics import mean_squared_error\n",
    "rmse_val = mean_squared_error(y_val, y_pred_val, squared=False)\n",
    "print(f\"RMSE на валидационных данных: {rmse_val}\")"
   ]
  },
  {
   "cell_type": "code",
   "execution_count": null,
   "metadata": {},
   "outputs": [],
   "source": [
    "import itertools\n",
    "\n",
    "top_k = 10\n",
    "\n",
    "def get_top_k_recommendations(user_id, k=top_k, df=test_df):\n",
    "    user_predictions = df[df['user_id'] == user_id]\n",
    "    top_k_items = user_predictions.nlargest(k, 'predicted_rating')['item_id'].values\n",
    "    return list(top_k_items)\n",
    "\n",
    "def make_candidates_generations(data: pd.DataFrame,model = model,  model_name : str = 'LightGBM', k = 10):\n",
    "    users = data['user_id'].unique()\n",
    "    items = data['item_id'].unique()\n",
    "    all_combinations = pd.DataFrame(list(itertools.product(users, items)), columns=['user_id', 'item_id'])\n",
    "    all_combinations_featured = join_features(all_combinations, user_features_from_train, item_features_from_train)\n",
    "    if model_name == 'LightGBM':\n",
    "        all_combinations_featured['predicted_rating'] = model.predict(all_combinations_featured, num_iteration=model.best_iteration)\n",
    "    user_top_k_recommendations = {user_id: get_top_k_recommendations(user_id, df=all_combinations_featured) for user_id in users}\n",
    "\n",
    "    recommendations = pd.DataFrame({\n",
    "    'user_id': user_top_k_recommendations.keys(),\n",
    "    'recommended_items': user_top_k_recommendations.values()\n",
    "    })\n",
    "\n",
    "    return recommendations\n",
    "\n",
    "recommendations_LGBM = make_candidates_generations(train_df, model = model, model_name='LightGBM', k = 10)"
   ]
  },
  {
   "cell_type": "code",
   "execution_count": 5,
   "metadata": {},
   "outputs": [],
   "source": [
    "\n",
    "# def get_top_k_recommendations(user_id, k=top_k, df=test_df):\n",
    "#     user_predictions = df[df['user_id'] == user_id]\n",
    "#     top_k_items = user_predictions.nlargest(k, 'predicted_rating')['item_id'].values\n",
    "#     return list(top_k_items)\n",
    "# users = test_df['user_id'].unique()\n",
    "# items = test_df['item_id'].unique()\n",
    "\n",
    "# all_combinations_test = pd.DataFrame(list(itertools.product(users, items)), columns=['user_id', 'item_id'])\n",
    "# all_combinations_test = join_features(all_combinations_test, user_features_from_train, item_features_from_train)\n",
    "# # X_test, y_test = all_combinations_test.drop(target_col, axis = 1), all_combinations_test[target_col]\n",
    "# X_test = all_combinations_test\n",
    "# all_combinations_test['predicted_rating'] = model.predict(X_test, num_iteration=model.best_iteration)\n",
    "\n",
    "# # Для каждого пользователя выбираем топ-10 фильмов в тестовом наборе\n",
    "# user_top_k_recommendations_test = {user_id: get_top_k_recommendations(user_id, df=all_combinations_test) for user_id in test_df.user_id}\n",
    "\n",
    "# # Преобразуем результат в DataFrame для теста\n",
    "# recommendations_test = pd.DataFrame({\n",
    "#     'user_id': user_top_k_recommendations_test.keys(),\n",
    "#     'recommended_items': user_top_k_recommendations_test.values()\n",
    "# })\n"
   ]
  },
  {
   "cell_type": "code",
   "execution_count": 9,
   "metadata": {},
   "outputs": [],
   "source": [
    "test_df = test_df.reset_index()\n",
    "recommendations_test['true'] = test_df['item_id'].apply(lambda x: [x])"
   ]
  },
  {
   "cell_type": "code",
   "execution_count": 12,
   "metadata": {},
   "outputs": [],
   "source": [
    "import numpy as np\n",
    "recommendations_test['recommended_items'] = recommendations_test['recommended_items'].apply(lambda x: np.array(x))\n",
    "recommendations_test['true'] = recommendations_test['true'].apply(lambda x: np.array(x))\n",
    "\n"
   ]
  },
  {
   "cell_type": "code",
   "execution_count": 13,
   "metadata": {},
   "outputs": [
    {
     "ename": "ValueError",
     "evalue": "setting an array element with a sequence.",
     "output_type": "error",
     "traceback": [
      "\u001b[0;31m---------------------------------------------------------------------------\u001b[0m",
      "\u001b[0;31mValueError\u001b[0m                                Traceback (most recent call last)",
      "\u001b[0;31mValueError\u001b[0m: The truth value of an array with more than one element is ambiguous. Use a.any() or a.all()",
      "\nThe above exception was the direct cause of the following exception:\n",
      "\u001b[0;31mValueError\u001b[0m                                Traceback (most recent call last)",
      "Cell \u001b[0;32mIn[13], line 2\u001b[0m\n\u001b[1;32m      1\u001b[0m \u001b[38;5;28;01mfrom\u001b[39;00m \u001b[38;5;21;01mrecall_at_k\u001b[39;00m \u001b[38;5;28;01mimport\u001b[39;00m \u001b[38;5;241m*\u001b[39m\n\u001b[0;32m----> 2\u001b[0m \u001b[43mrecall_at_k\u001b[49m\u001b[43m(\u001b[49m\u001b[43mrecommendations_test\u001b[49m\u001b[43m,\u001b[49m\u001b[43m \u001b[49m\u001b[43mk\u001b[49m\u001b[43m \u001b[49m\u001b[38;5;241;43m=\u001b[39;49m\u001b[43m \u001b[49m\u001b[38;5;241;43m10\u001b[39;49m\u001b[43m,\u001b[49m\u001b[43m \u001b[49m\u001b[43my_test\u001b[49m\u001b[43m \u001b[49m\u001b[38;5;241;43m=\u001b[39;49m\u001b[43m \u001b[49m\u001b[38;5;124;43m'\u001b[39;49m\u001b[38;5;124;43mtrue\u001b[39;49m\u001b[38;5;124;43m'\u001b[39;49m\u001b[43m,\u001b[49m\u001b[43m \u001b[49m\u001b[43my_pred\u001b[49m\u001b[43m \u001b[49m\u001b[38;5;241;43m=\u001b[39;49m\u001b[43m \u001b[49m\u001b[38;5;124;43m'\u001b[39;49m\u001b[38;5;124;43mrecommended_items\u001b[39;49m\u001b[38;5;124;43m'\u001b[39;49m\u001b[43m)\u001b[49m\n",
      "File \u001b[0;32m~/Documents/RecSys/RecSysCompetition/recall_at_k.py:22\u001b[0m, in \u001b[0;36mrecall_at_k\u001b[0;34m(df, k, y_test, y_pred)\u001b[0m\n\u001b[1;32m     20\u001b[0m denominator \u001b[38;5;241m=\u001b[39m df[y_test]\u001b[38;5;241m.\u001b[39msum()\n\u001b[1;32m     21\u001b[0m \u001b[38;5;66;03m# compute number of recommended items that are relevant @k\u001b[39;00m\n\u001b[0;32m---> 22\u001b[0m numerator \u001b[38;5;241m=\u001b[39m dfK[\u001b[43mdfK\u001b[49m\u001b[43m[\u001b[49m\u001b[43my_pred\u001b[49m\u001b[43m]\u001b[49m\u001b[43m \u001b[49m\u001b[38;5;241;43m&\u001b[39;49m\u001b[43m \u001b[49m\u001b[43mdfK\u001b[49m\u001b[43m[\u001b[49m\u001b[43my_test\u001b[49m\u001b[43m]\u001b[49m]\u001b[38;5;241m.\u001b[39mshape[\u001b[38;5;241m0\u001b[39m]\n\u001b[1;32m     23\u001b[0m \u001b[38;5;66;03m# return result\u001b[39;00m\n\u001b[1;32m     24\u001b[0m \u001b[38;5;28;01mif\u001b[39;00m denominator \u001b[38;5;241m>\u001b[39m \u001b[38;5;241m0\u001b[39m:\n",
      "File \u001b[0;32m~/Documents/RecSys/RecSysCompetition/.venv/lib/python3.10/site-packages/pandas/core/ops/common.py:76\u001b[0m, in \u001b[0;36m_unpack_zerodim_and_defer.<locals>.new_method\u001b[0;34m(self, other)\u001b[0m\n\u001b[1;32m     72\u001b[0m             \u001b[38;5;28;01mreturn\u001b[39;00m \u001b[38;5;28mNotImplemented\u001b[39m\n\u001b[1;32m     74\u001b[0m other \u001b[38;5;241m=\u001b[39m item_from_zerodim(other)\n\u001b[0;32m---> 76\u001b[0m \u001b[38;5;28;01mreturn\u001b[39;00m \u001b[43mmethod\u001b[49m\u001b[43m(\u001b[49m\u001b[38;5;28;43mself\u001b[39;49m\u001b[43m,\u001b[49m\u001b[43m \u001b[49m\u001b[43mother\u001b[49m\u001b[43m)\u001b[49m\n",
      "File \u001b[0;32m~/Documents/RecSys/RecSysCompetition/.venv/lib/python3.10/site-packages/pandas/core/arraylike.py:70\u001b[0m, in \u001b[0;36mOpsMixin.__and__\u001b[0;34m(self, other)\u001b[0m\n\u001b[1;32m     68\u001b[0m \u001b[38;5;129m@unpack_zerodim_and_defer\u001b[39m(\u001b[38;5;124m\"\u001b[39m\u001b[38;5;124m__and__\u001b[39m\u001b[38;5;124m\"\u001b[39m)\n\u001b[1;32m     69\u001b[0m \u001b[38;5;28;01mdef\u001b[39;00m \u001b[38;5;21m__and__\u001b[39m(\u001b[38;5;28mself\u001b[39m, other):\n\u001b[0;32m---> 70\u001b[0m     \u001b[38;5;28;01mreturn\u001b[39;00m \u001b[38;5;28;43mself\u001b[39;49m\u001b[38;5;241;43m.\u001b[39;49m\u001b[43m_logical_method\u001b[49m\u001b[43m(\u001b[49m\u001b[43mother\u001b[49m\u001b[43m,\u001b[49m\u001b[43m \u001b[49m\u001b[43moperator\u001b[49m\u001b[38;5;241;43m.\u001b[39;49m\u001b[43mand_\u001b[49m\u001b[43m)\u001b[49m\n",
      "File \u001b[0;32m~/Documents/RecSys/RecSysCompetition/.venv/lib/python3.10/site-packages/pandas/core/series.py:6130\u001b[0m, in \u001b[0;36mSeries._logical_method\u001b[0;34m(self, other, op)\u001b[0m\n\u001b[1;32m   6127\u001b[0m lvalues \u001b[38;5;241m=\u001b[39m \u001b[38;5;28mself\u001b[39m\u001b[38;5;241m.\u001b[39m_values\n\u001b[1;32m   6128\u001b[0m rvalues \u001b[38;5;241m=\u001b[39m extract_array(other, extract_numpy\u001b[38;5;241m=\u001b[39m\u001b[38;5;28;01mTrue\u001b[39;00m, extract_range\u001b[38;5;241m=\u001b[39m\u001b[38;5;28;01mTrue\u001b[39;00m)\n\u001b[0;32m-> 6130\u001b[0m res_values \u001b[38;5;241m=\u001b[39m \u001b[43mops\u001b[49m\u001b[38;5;241;43m.\u001b[39;49m\u001b[43mlogical_op\u001b[49m\u001b[43m(\u001b[49m\u001b[43mlvalues\u001b[49m\u001b[43m,\u001b[49m\u001b[43m \u001b[49m\u001b[43mrvalues\u001b[49m\u001b[43m,\u001b[49m\u001b[43m \u001b[49m\u001b[43mop\u001b[49m\u001b[43m)\u001b[49m\n\u001b[1;32m   6131\u001b[0m \u001b[38;5;28;01mreturn\u001b[39;00m \u001b[38;5;28mself\u001b[39m\u001b[38;5;241m.\u001b[39m_construct_result(res_values, name\u001b[38;5;241m=\u001b[39mres_name)\n",
      "File \u001b[0;32m~/Documents/RecSys/RecSysCompetition/.venv/lib/python3.10/site-packages/pandas/core/ops/array_ops.py:459\u001b[0m, in \u001b[0;36mlogical_op\u001b[0;34m(left, right, op)\u001b[0m\n\u001b[1;32m    456\u001b[0m     \u001b[38;5;66;03m# For int vs int `^`, `|`, `&` are bitwise operators and return\u001b[39;00m\n\u001b[1;32m    457\u001b[0m     \u001b[38;5;66;03m#   integer dtypes.  Otherwise these are boolean ops\u001b[39;00m\n\u001b[1;32m    458\u001b[0m     \u001b[38;5;28;01mif\u001b[39;00m \u001b[38;5;129;01mnot\u001b[39;00m (left\u001b[38;5;241m.\u001b[39mdtype\u001b[38;5;241m.\u001b[39mkind \u001b[38;5;129;01min\u001b[39;00m \u001b[38;5;124m\"\u001b[39m\u001b[38;5;124miu\u001b[39m\u001b[38;5;124m\"\u001b[39m \u001b[38;5;129;01mand\u001b[39;00m is_other_int_dtype):\n\u001b[0;32m--> 459\u001b[0m         res_values \u001b[38;5;241m=\u001b[39m \u001b[43mfill_bool\u001b[49m\u001b[43m(\u001b[49m\u001b[43mres_values\u001b[49m\u001b[43m)\u001b[49m\n\u001b[1;32m    461\u001b[0m \u001b[38;5;28;01mreturn\u001b[39;00m res_values\n",
      "File \u001b[0;32m~/Documents/RecSys/RecSysCompetition/.venv/lib/python3.10/site-packages/pandas/core/ops/array_ops.py:420\u001b[0m, in \u001b[0;36mlogical_op.<locals>.fill_bool\u001b[0;34m(x, left)\u001b[0m\n\u001b[1;32m    417\u001b[0m         x[mask] \u001b[38;5;241m=\u001b[39m \u001b[38;5;28;01mFalse\u001b[39;00m\n\u001b[1;32m    419\u001b[0m \u001b[38;5;28;01mif\u001b[39;00m left \u001b[38;5;129;01mis\u001b[39;00m \u001b[38;5;28;01mNone\u001b[39;00m \u001b[38;5;129;01mor\u001b[39;00m left\u001b[38;5;241m.\u001b[39mdtype\u001b[38;5;241m.\u001b[39mkind \u001b[38;5;241m==\u001b[39m \u001b[38;5;124m\"\u001b[39m\u001b[38;5;124mb\u001b[39m\u001b[38;5;124m\"\u001b[39m:\n\u001b[0;32m--> 420\u001b[0m     x \u001b[38;5;241m=\u001b[39m \u001b[43mx\u001b[49m\u001b[38;5;241;43m.\u001b[39;49m\u001b[43mastype\u001b[49m\u001b[43m(\u001b[49m\u001b[38;5;28;43mbool\u001b[39;49m\u001b[43m)\u001b[49m\n\u001b[1;32m    421\u001b[0m \u001b[38;5;28;01mreturn\u001b[39;00m x\n",
      "\u001b[0;31mValueError\u001b[0m: setting an array element with a sequence."
     ]
    }
   ],
   "source": [
    "from recall_at_k import *\n",
    "recall_at_k(recommendations_test, k = 10, y_test = 'true', y_pred = 'recommended_items')"
   ]
  },
  {
   "cell_type": "code",
   "execution_count": null,
   "metadata": {},
   "outputs": [],
   "source": [
    "recommendations_test['recommended_items'] = recommendations_test['recommended_items'].apply(lambda x: [str(a) for a in x]).apply(lambda x: ' '.join(x))\n",
    "recommendations_test.to_csv('recommendations_lightGBM.csv', index=False)"
   ]
  },
  {
   "cell_type": "code",
   "execution_count": 36,
   "metadata": {},
   "outputs": [
    {
     "data": {
      "text/plain": [
       "0       3360\n",
       "1        584\n",
       "2       2625\n",
       "3       3344\n",
       "4       1868\n",
       "        ... \n",
       "6035    3216\n",
       "6036    1583\n",
       "6037    1040\n",
       "6038    2354\n",
       "6039    1177\n",
       "Name: true, Length: 6040, dtype: int64"
      ]
     },
     "execution_count": 36,
     "metadata": {},
     "output_type": "execute_result"
    }
   ],
   "source": [
    "recommendations_test['true']"
   ]
  },
  {
   "cell_type": "markdown",
   "metadata": {},
   "source": [
    "# BERT"
   ]
  },
  {
   "cell_type": "code",
   "execution_count": 14,
   "metadata": {},
   "outputs": [
    {
     "data": {
      "text/html": [
       "<div>\n",
       "<style scoped>\n",
       "    .dataframe tbody tr th:only-of-type {\n",
       "        vertical-align: middle;\n",
       "    }\n",
       "\n",
       "    .dataframe tbody tr th {\n",
       "        vertical-align: top;\n",
       "    }\n",
       "\n",
       "    .dataframe thead th {\n",
       "        text-align: right;\n",
       "    }\n",
       "</style>\n",
       "<table border=\"1\" class=\"dataframe\">\n",
       "  <thead>\n",
       "    <tr style=\"text-align: right;\">\n",
       "      <th></th>\n",
       "      <th>score</th>\n",
       "      <th>user_id</th>\n",
       "      <th>item_id</th>\n",
       "    </tr>\n",
       "  </thead>\n",
       "  <tbody>\n",
       "    <tr>\n",
       "      <th>0</th>\n",
       "      <td>1.469170</td>\n",
       "      <td>3</td>\n",
       "      <td>1560</td>\n",
       "    </tr>\n",
       "    <tr>\n",
       "      <th>1</th>\n",
       "      <td>1.349339</td>\n",
       "      <td>3</td>\n",
       "      <td>3529</td>\n",
       "    </tr>\n",
       "    <tr>\n",
       "      <th>2</th>\n",
       "      <td>1.271518</td>\n",
       "      <td>3</td>\n",
       "      <td>2327</td>\n",
       "    </tr>\n",
       "    <tr>\n",
       "      <th>3</th>\n",
       "      <td>1.225739</td>\n",
       "      <td>3</td>\n",
       "      <td>2784</td>\n",
       "    </tr>\n",
       "    <tr>\n",
       "      <th>4</th>\n",
       "      <td>1.182122</td>\n",
       "      <td>3</td>\n",
       "      <td>494</td>\n",
       "    </tr>\n",
       "  </tbody>\n",
       "</table>\n",
       "</div>"
      ],
      "text/plain": [
       "      score  user_id  item_id\n",
       "0  1.469170        3     1560\n",
       "1  1.349339        3     3529\n",
       "2  1.271518        3     2327\n",
       "3  1.225739        3     2784\n",
       "4  1.182122        3      494"
      ]
     },
     "execution_count": 14,
     "metadata": {},
     "output_type": "execute_result"
    }
   ],
   "source": [
    "import pandas as pd\n",
    "data_BERT = pd.read_csv('recommendations_BERT.csv')\n"
   ]
  },
  {
   "cell_type": "code",
   "execution_count": 40,
   "metadata": {},
   "outputs": [
    {
     "data": {
      "text/html": [
       "<div>\n",
       "<style scoped>\n",
       "    .dataframe tbody tr th:only-of-type {\n",
       "        vertical-align: middle;\n",
       "    }\n",
       "\n",
       "    .dataframe tbody tr th {\n",
       "        vertical-align: top;\n",
       "    }\n",
       "\n",
       "    .dataframe thead th {\n",
       "        text-align: right;\n",
       "    }\n",
       "</style>\n",
       "<table border=\"1\" class=\"dataframe\">\n",
       "  <thead>\n",
       "    <tr style=\"text-align: right;\">\n",
       "      <th></th>\n",
       "      <th>user_id</th>\n",
       "      <th>item_id</th>\n",
       "    </tr>\n",
       "  </thead>\n",
       "  <tbody>\n",
       "    <tr>\n",
       "      <th>0</th>\n",
       "      <td>3</td>\n",
       "      <td>[1543, 1223, 1560, 3409, 1315, 132, 3529, 1505...</td>\n",
       "    </tr>\n",
       "    <tr>\n",
       "      <th>1</th>\n",
       "      <td>4</td>\n",
       "      <td>[2528, 1337, 1560, 2297, 1583, 1039, 3409, 131...</td>\n",
       "    </tr>\n",
       "    <tr>\n",
       "      <th>2</th>\n",
       "      <td>18</td>\n",
       "      <td>[1583, 1039, 2297, 1543, 3529, 1337, 1560, 181...</td>\n",
       "    </tr>\n",
       "    <tr>\n",
       "      <th>3</th>\n",
       "      <td>22</td>\n",
       "      <td>[1543, 2528, 3409, 1560, 1315, 132, 1505, 3529...</td>\n",
       "    </tr>\n",
       "    <tr>\n",
       "      <th>4</th>\n",
       "      <td>24</td>\n",
       "      <td>[1583, 2297, 1811, 1039, 1337, 1560, 2528, 584...</td>\n",
       "    </tr>\n",
       "    <tr>\n",
       "      <th>...</th>\n",
       "      <td>...</td>\n",
       "      <td>...</td>\n",
       "    </tr>\n",
       "    <tr>\n",
       "      <th>6035</th>\n",
       "      <td>6007</td>\n",
       "      <td>[2528, 1583, 1560, 2297, 1831, 132, 2327, 1505...</td>\n",
       "    </tr>\n",
       "    <tr>\n",
       "      <th>6036</th>\n",
       "      <td>6014</td>\n",
       "      <td>[1543, 1039, 132, 3409, 2327, 1505, 494, 1086,...</td>\n",
       "    </tr>\n",
       "    <tr>\n",
       "      <th>6037</th>\n",
       "      <td>6016</td>\n",
       "      <td>[472, 1583, 1543, 1811, 1223, 1039, 1337, 1560...</td>\n",
       "    </tr>\n",
       "    <tr>\n",
       "      <th>6038</th>\n",
       "      <td>6023</td>\n",
       "      <td>[472, 1583, 1543, 3529, 2297, 1223, 1039, 1811...</td>\n",
       "    </tr>\n",
       "    <tr>\n",
       "      <th>6039</th>\n",
       "      <td>6027</td>\n",
       "      <td>[1583, 1039, 1337, 2297, 1223, 1560, 3409, 150...</td>\n",
       "    </tr>\n",
       "  </tbody>\n",
       "</table>\n",
       "<p>6040 rows × 2 columns</p>\n",
       "</div>"
      ],
      "text/plain": [
       "      user_id                                            item_id\n",
       "0           3  [1543, 1223, 1560, 3409, 1315, 132, 3529, 1505...\n",
       "1           4  [2528, 1337, 1560, 2297, 1583, 1039, 3409, 131...\n",
       "2          18  [1583, 1039, 2297, 1543, 3529, 1337, 1560, 181...\n",
       "3          22  [1543, 2528, 3409, 1560, 1315, 132, 1505, 3529...\n",
       "4          24  [1583, 2297, 1811, 1039, 1337, 1560, 2528, 584...\n",
       "...       ...                                                ...\n",
       "6035     6007  [2528, 1583, 1560, 2297, 1831, 132, 2327, 1505...\n",
       "6036     6014  [1543, 1039, 132, 3409, 2327, 1505, 494, 1086,...\n",
       "6037     6016  [472, 1583, 1543, 1811, 1223, 1039, 1337, 1560...\n",
       "6038     6023  [472, 1583, 1543, 3529, 2297, 1223, 1039, 1811...\n",
       "6039     6027  [1583, 1039, 1337, 2297, 1223, 1560, 3409, 150...\n",
       "\n",
       "[6040 rows x 2 columns]"
      ]
     },
     "execution_count": 40,
     "metadata": {},
     "output_type": "execute_result"
    }
   ],
   "source": [
    "import itertools\n",
    "top_k = 10\n",
    "def get_top_k_recommendations(user_id, k=top_k, df=test_df):\n",
    "    user_predictions = df[df['user_id'] == user_id]\n",
    "    top_k_items = user_predictions.nlargest(k, 'score')['item_id'].values\n",
    "    return list(top_k_items)\n",
    "users = data_BERT['user_id'].unique()\n",
    "items = data_BERT['item_id'].unique()\n",
    "\n",
    "\n",
    "# Для каждого пользователя выбираем топ-10 фильмов в тестовом наборе\n",
    "user_top_k_recommendations_BERT = {user_id: get_top_k_recommendations(user_id, df=data_BERT) for user_id in data_BERT.user_id.unique()}\n",
    "\n",
    "# Преобразуем результат в DataFrame для теста\n",
    "recommendations_BERT = pd.DataFrame({\n",
    "    'user_id': user_top_k_recommendations_BERT.keys(),\n",
    "    'item_id': user_top_k_recommendations_BERT.values()\n",
    "})\n",
    "recommendations_BERT\n"
   ]
  },
  {
   "cell_type": "code",
   "execution_count": 41,
   "metadata": {},
   "outputs": [
    {
     "data": {
      "text/html": [
       "<div>\n",
       "<style scoped>\n",
       "    .dataframe tbody tr th:only-of-type {\n",
       "        vertical-align: middle;\n",
       "    }\n",
       "\n",
       "    .dataframe tbody tr th {\n",
       "        vertical-align: top;\n",
       "    }\n",
       "\n",
       "    .dataframe thead th {\n",
       "        text-align: right;\n",
       "    }\n",
       "</style>\n",
       "<table border=\"1\" class=\"dataframe\">\n",
       "  <thead>\n",
       "    <tr style=\"text-align: right;\">\n",
       "      <th></th>\n",
       "      <th>score</th>\n",
       "      <th>user_id</th>\n",
       "      <th>item_id</th>\n",
       "    </tr>\n",
       "  </thead>\n",
       "  <tbody>\n",
       "    <tr>\n",
       "      <th>68639</th>\n",
       "      <td>1.64473</td>\n",
       "      <td>0</td>\n",
       "      <td>1543</td>\n",
       "    </tr>\n",
       "  </tbody>\n",
       "</table>\n",
       "</div>"
      ],
      "text/plain": [
       "         score  user_id  item_id\n",
       "68639  1.64473        0     1543"
      ]
     },
     "execution_count": 41,
     "metadata": {},
     "output_type": "execute_result"
    }
   ],
   "source": [
    "data_BERT[data_BERT.score == data_BERT[data_BERT.user_id == 0]['score'].max()]"
   ]
  },
  {
   "cell_type": "code",
   "execution_count": 42,
   "metadata": {},
   "outputs": [
    {
     "data": {
      "text/html": [
       "<div>\n",
       "<style scoped>\n",
       "    .dataframe tbody tr th:only-of-type {\n",
       "        vertical-align: middle;\n",
       "    }\n",
       "\n",
       "    .dataframe tbody tr th {\n",
       "        vertical-align: top;\n",
       "    }\n",
       "\n",
       "    .dataframe thead th {\n",
       "        text-align: right;\n",
       "    }\n",
       "</style>\n",
       "<table border=\"1\" class=\"dataframe\">\n",
       "  <thead>\n",
       "    <tr style=\"text-align: right;\">\n",
       "      <th></th>\n",
       "      <th>user_id</th>\n",
       "      <th>item_id</th>\n",
       "    </tr>\n",
       "  </thead>\n",
       "  <tbody>\n",
       "    <tr>\n",
       "      <th>516</th>\n",
       "      <td>0</td>\n",
       "      <td>1543 472 1811 2784 1086 494 3151 2688 790 1668</td>\n",
       "    </tr>\n",
       "    <tr>\n",
       "      <th>2057</th>\n",
       "      <td>1</td>\n",
       "      <td>1039 2528 1315 1811 1505 132 2327 3529 169 3677</td>\n",
       "    </tr>\n",
       "    <tr>\n",
       "      <th>2058</th>\n",
       "      <td>2</td>\n",
       "      <td>1543 2528 1560 1039 132 3409 1315 1831 2327 1223</td>\n",
       "    </tr>\n",
       "    <tr>\n",
       "      <th>0</th>\n",
       "      <td>3</td>\n",
       "      <td>1543 1223 1560 3409 1315 132 3529 1505 2327 169</td>\n",
       "    </tr>\n",
       "    <tr>\n",
       "      <th>1</th>\n",
       "      <td>4</td>\n",
       "      <td>2528 1337 1560 2297 1583 1039 3409 1315 132 2327</td>\n",
       "    </tr>\n",
       "    <tr>\n",
       "      <th>...</th>\n",
       "      <td>...</td>\n",
       "      <td>...</td>\n",
       "    </tr>\n",
       "    <tr>\n",
       "      <th>4076</th>\n",
       "      <td>6035</td>\n",
       "      <td>1543 1337 2528 132 1811 2327 3529 1315 3409 584</td>\n",
       "    </tr>\n",
       "    <tr>\n",
       "      <th>4526</th>\n",
       "      <td>6036</td>\n",
       "      <td>1583 1039 1811 2297 1337 3529 1560 2528 584 1831</td>\n",
       "    </tr>\n",
       "    <tr>\n",
       "      <th>4527</th>\n",
       "      <td>6037</td>\n",
       "      <td>1543 1337 472 1560 1583 2528 2297 1315 1811 2327</td>\n",
       "    </tr>\n",
       "    <tr>\n",
       "      <th>3548</th>\n",
       "      <td>6038</td>\n",
       "      <td>1543 1583 1337 1315 494 640 476 523 2175 79</td>\n",
       "    </tr>\n",
       "    <tr>\n",
       "      <th>5031</th>\n",
       "      <td>6039</td>\n",
       "      <td>2528 132 1831 1811 1315 3529 1505 2784 2636 3151</td>\n",
       "    </tr>\n",
       "  </tbody>\n",
       "</table>\n",
       "<p>6040 rows × 2 columns</p>\n",
       "</div>"
      ],
      "text/plain": [
       "      user_id                                           item_id\n",
       "516         0    1543 472 1811 2784 1086 494 3151 2688 790 1668\n",
       "2057        1   1039 2528 1315 1811 1505 132 2327 3529 169 3677\n",
       "2058        2  1543 2528 1560 1039 132 3409 1315 1831 2327 1223\n",
       "0           3   1543 1223 1560 3409 1315 132 3529 1505 2327 169\n",
       "1           4  2528 1337 1560 2297 1583 1039 3409 1315 132 2327\n",
       "...       ...                                               ...\n",
       "4076     6035   1543 1337 2528 132 1811 2327 3529 1315 3409 584\n",
       "4526     6036  1583 1039 1811 2297 1337 3529 1560 2528 584 1831\n",
       "4527     6037  1543 1337 472 1560 1583 2528 2297 1315 1811 2327\n",
       "3548     6038       1543 1583 1337 1315 494 640 476 523 2175 79\n",
       "5031     6039  2528 132 1831 1811 1315 3529 1505 2784 2636 3151\n",
       "\n",
       "[6040 rows x 2 columns]"
      ]
     },
     "execution_count": 42,
     "metadata": {},
     "output_type": "execute_result"
    }
   ],
   "source": [
    "\n",
    "recommendations_BERT = recommendations_BERT.sort_values(by = 'user_id')\n",
    "recommendations_BERT['item_id'] = recommendations_BERT['item_id'].apply(lambda x: [str(a) for a in x]).apply(lambda x: ' '.join(x))\n",
    "recommendations_BERT"
   ]
  },
  {
   "cell_type": "code",
   "execution_count": 43,
   "metadata": {},
   "outputs": [],
   "source": [
    "recommendations_BERT.to_csv('recommendations_BERT.csv', index=False)"
   ]
  },
  {
   "cell_type": "code",
   "execution_count": 44,
   "metadata": {},
   "outputs": [
    {
     "data": {
      "text/plain": [
       "(6040,)"
      ]
     },
     "execution_count": 44,
     "metadata": {},
     "output_type": "execute_result"
    }
   ],
   "source": [
    "recommendations_BERT.user_id.unique().shape"
   ]
  },
  {
   "cell_type": "code",
   "execution_count": 36,
   "metadata": {},
   "outputs": [
    {
     "data": {
      "text/plain": [
       "(6040,)"
      ]
     },
     "execution_count": 36,
     "metadata": {},
     "output_type": "execute_result"
    }
   ],
   "source": [
    "train_df.user_id.unique().shape"
   ]
  },
  {
   "cell_type": "code",
   "execution_count": null,
   "metadata": {},
   "outputs": [],
   "source": []
  }
 ],
 "metadata": {
  "kernelspec": {
   "display_name": ".venv",
   "language": "python",
   "name": "python3"
  },
  "language_info": {
   "codemirror_mode": {
    "name": "ipython",
    "version": 3
   },
   "file_extension": ".py",
   "mimetype": "text/x-python",
   "name": "python",
   "nbconvert_exporter": "python",
   "pygments_lexer": "ipython3",
   "version": "3.10.11"
  }
 },
 "nbformat": 4,
 "nbformat_minor": 2
}
