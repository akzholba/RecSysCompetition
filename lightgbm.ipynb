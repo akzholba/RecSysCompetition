{
 "cells": [
  {
   "cell_type": "code",
   "execution_count": 1,
   "metadata": {},
   "outputs": [
    {
     "name": "stdout",
     "output_type": "stream",
     "text": [
      "Requirement already satisfied: lightgbm in ./.venv/lib/python3.10/site-packages (4.5.0)\n",
      "Requirement already satisfied: numpy>=1.17.0 in ./.venv/lib/python3.10/site-packages (from lightgbm) (2.1.2)\n",
      "Requirement already satisfied: scipy in ./.venv/lib/python3.10/site-packages (from lightgbm) (1.14.1)\n"
     ]
    }
   ],
   "source": [
    "!pip install lightgbm"
   ]
  },
  {
   "cell_type": "code",
   "execution_count": 2,
   "metadata": {},
   "outputs": [],
   "source": [
    "import os\n",
    "from data_split import *\n",
    "from feature_additions import *\n",
    "\n",
    "data_path = 'data'\n",
    "events_df = pd.read_csv('data/events.csv')  # [user_id, item_id, rating, timestamp]\n",
    "user_features_df = pd.read_csv(os.path.join(data_path,'user_features.csv')) # [user_id, gender, age]\n",
    "item_features_df = pd.read_csv('./data/item_features.csv')\n",
    "\n",
    "train_df, val_df, test_df = split_data_by_user(events_df)\n",
    "\n",
    "user_features_from_train = get_user_features_from_train(train_df, item_features_df)\n",
    "item_features_from_train = get_item_features_from_train(train_df, item_features_df)\n",
    "\n",
    "# Присоединение признаков к тестовому набору данных\n",
    "train_df_with_features = join_features_to_test(train_df, user_features_from_train, item_features_from_train)\n",
    "test_df_with_features = join_features_to_test(test_df, user_features_from_train, item_features_from_train)\n",
    "val_df_with_features = join_features_to_test(val_df, user_features_from_train, item_features_from_train)\n",
    "\n",
    "\n",
    "target_col = ['rating']\n",
    "X_train, y_train = train_df_with_features.drop(target_col, axis = 1), train_df_with_features[target_col]\n",
    "X_test, y_test = test_df_with_features.drop(target_col, axis = 1), test_df_with_features[target_col]\n",
    "X_val, y_val = val_df_with_features.drop(target_col, axis = 1), val_df_with_features[target_col]\n",
    "\n"
   ]
  },
  {
   "cell_type": "code",
   "execution_count": 8,
   "metadata": {},
   "outputs": [
    {
     "name": "stdout",
     "output_type": "stream",
     "text": [
      "[LightGBM] [Info] Auto-choosing row-wise multi-threading, the overhead of testing was 0.015142 seconds.\n",
      "You can set `force_row_wise=true` to remove the overhead.\n",
      "And if memory is not enough, you can set `force_col_wise=true`.\n",
      "[LightGBM] [Info] Total Bins 6374\n",
      "[LightGBM] [Info] Number of data points in the train set: 857909, number of used features: 26\n",
      "[LightGBM] [Info] Start training from score 3.580388\n",
      "RMSE на валидационных данных: 0.9336433451801084\n"
     ]
    },
    {
     "name": "stderr",
     "output_type": "stream",
     "text": [
      "/Users/akzholba/Documents/RecSys/RecSysCompetition/.venv/lib/python3.10/site-packages/sklearn/metrics/_regression.py:492: FutureWarning: 'squared' is deprecated in version 1.4 and will be removed in 1.6. To calculate the root mean squared error, use the function'root_mean_squared_error'.\n",
      "  warnings.warn(\n"
     ]
    }
   ],
   "source": [
    "import lightgbm as lgb\n",
    "\n",
    "lgb_train = lgb.Dataset(X_train, y_train)\n",
    "lgb_val = lgb.Dataset(X_val, y_val, reference=lgb_train)\n",
    "\n",
    "# Параметры модели\n",
    "params = {\n",
    "    'objective': 'regression',      # Можно использовать 'lambdarank' для ранжирования\n",
    "    'metric': 'rmse',               # Метрика регрессии, для ранжирования можно использовать NDCG\n",
    "    'boosting_type': 'gbdt',\n",
    "    'learning_rate': 0.05,\n",
    "    'num_leaves': 31,\n",
    "    'feature_fraction': 0.9,\n",
    "    'bagging_fraction': 0.8,\n",
    "    'bagging_freq': 5,\n",
    "}\n",
    "\n",
    "# Обучение модели\n",
    "model = lgb.train(params, lgb_train, valid_sets=[lgb_train, lgb_val], num_boost_round=1000)\n",
    "\n",
    "# Предсказание на валидации для оценки\n",
    "y_pred_val = model.predict(X_val, num_iteration=model.best_iteration)\n",
    "\n",
    "from sklearn.metrics import mean_squared_error\n",
    "rmse_val = mean_squared_error(y_val, y_pred_val, squared=False)\n",
    "print(f\"RMSE на валидационных данных: {rmse_val}\")"
   ]
  },
  {
   "cell_type": "code",
   "execution_count": 15,
   "metadata": {},
   "outputs": [],
   "source": [
    "import itertools\n",
    "top_k = 10\n",
    "def get_top_k_recommendations(user_id, k=top_k, df=test_df):\n",
    "    user_predictions = df[df['user_id'] == user_id]\n",
    "    top_k_items = user_predictions.nlargest(k, 'predicted_rating')['item_id'].values\n",
    "    return list(top_k_items)\n",
    "users = test_df['user_id'].unique()\n",
    "items = test_df['item_id'].unique()\n",
    "\n",
    "all_combinations_test = pd.DataFrame(list(itertools.product(users, items)), columns=['user_id', 'item_id'])\n",
    "all_combinations_test = join_features_to_test(all_combinations_test, user_features_from_train, item_features_from_train)\n",
    "X_test, y_test = test_df_with_features.drop(target_col, axis = 1), test_df_with_features[target_col]\n",
    "test_df['predicted_rating'] = model.predict(X_test, num_iteration=model.best_iteration)\n",
    "\n",
    "# Для каждого пользователя выбираем топ-10 фильмов в тестовом наборе\n",
    "user_top_k_recommendations_test = {user_id: get_top_k_recommendations(user_id, df=test_df) for user_id in test_df.user_id}\n",
    "\n",
    "# Преобразуем результат в DataFrame для теста\n",
    "recommendations_test = pd.DataFrame({\n",
    "    'user_id': user_top_k_recommendations_test.keys(),\n",
    "    'recommended_items': user_top_k_recommendations_test.values()\n",
    "})\n",
    "\n",
    "# Сохраняем результат для тестового набора\n",
    "recommendations_test.to_csv('recommendations_test.csv', index=False)\n"
   ]
  },
  {
   "cell_type": "code",
   "execution_count": null,
   "metadata": {},
   "outputs": [],
   "source": []
  }
 ],
 "metadata": {
  "kernelspec": {
   "display_name": ".venv",
   "language": "python",
   "name": "python3"
  },
  "language_info": {
   "codemirror_mode": {
    "name": "ipython",
    "version": 3
   },
   "file_extension": ".py",
   "mimetype": "text/x-python",
   "name": "python",
   "nbconvert_exporter": "python",
   "pygments_lexer": "ipython3",
   "version": "3.10.11"
  }
 },
 "nbformat": 4,
 "nbformat_minor": 2
}
